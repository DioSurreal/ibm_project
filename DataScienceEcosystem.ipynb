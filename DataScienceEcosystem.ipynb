{
 "cells": [
  {
   "cell_type": "markdown",
   "id": "3589f795",
   "metadata": {},
   "source": [
    "# Data Science Tools and Ecosystem\n",
    "In this notebook, Data Science Tools and Ecosystem are summarized."
   ]
  },
  {
   "cell_type": "markdown",
   "id": "aad95858",
   "metadata": {},
   "source": [
    "### Some of the popular languages that Data Scientists use are:\n",
    "\n",
    "1. Python\n",
    "2. R\n",
    "3. Scala  (or any other language you prefer)\n"
   ]
  },
  {
   "cell_type": "markdown",
   "id": "ecbe2fd2",
   "metadata": {},
   "source": [
    "## Data Science Tools and Ecosystem\n",
    "\n",
    "In this notebook, Data Science Tools and Ecosystem are summarized.\n",
    "\n",
    "**Some of the commonly used libraries used by Data Scientists include:**\n",
    "\n",
    "1. **NumPy:** Provides foundational numerical computing capabilities.\n",
    "2. **Pandas:** Offers powerful data structures and analysis tools for working with tabular data.\n",
    "3. **Matplotlib:** Enables creation of various static, animated, and interactive visualizations.\n",
    "  * (You can add more libraries here. For example, Scikit-learn for machine learning or Seaborn for statistical graphics)\n"
   ]
  },
  {
   "cell_type": "markdown",
   "id": "eccb04f3",
   "metadata": {},
   "source": [
    "## Data Science Tools and Ecosystem\n",
    "\n",
    "In this notebook, Data Science Tools and Ecosystem are summarized.\n",
    "\n",
    "**Some of the commonly used libraries used by Data Scientists include:**\n",
    "\n",
    "1. **NumPy:** Provides foundational numerical computing capabilities.\n",
    "2. **Pandas:** Offers powerful data structures and analysis tools for working with tabular data.\n",
    "3. **Matplotlib:** Enables creation of various static, animated, and interactive visualizations.\n",
    "\n",
    "**Data Science Tools**\n",
    "\n",
    "* Jupyter Notebook: Interactive environment for code, visualizations, and documentation.\n",
    "* RStudio: Integrated development environment specifically for the R programming language.\n",
    "* PyCharm: Professional IDE with extensive features for Python development, including data science tools.\n"
   ]
  },
  {
   "cell_type": "code",
   "execution_count": 2,
   "id": "b6cfed2e",
   "metadata": {},
   "outputs": [
    {
     "name": "stdout",
     "output_type": "stream",
     "text": [
      "17\n"
     ]
    }
   ],
   "source": [
    "### Below are a few examples of evaluating arithmetic expressions in Python.\n",
    "\n",
    "\n",
    "# This is a simple arithmetic expression to multiply then add integers\n",
    "result = (3 * 4) + 5\n",
    "\n",
    "# Print the result (optional)\n",
    "print(result)\n"
   ]
  },
  {
   "cell_type": "code",
   "execution_count": 3,
   "id": "647d77b0",
   "metadata": {},
   "outputs": [
    {
     "name": "stdout",
     "output_type": "stream",
     "text": [
      "3.3333333333333335\n"
     ]
    }
   ],
   "source": [
    "# This will convert 200 minutes to hours by dividing by 60\n",
    "minutes = 200\n",
    "hours = minutes / 60\n",
    "\n",
    "# Print the result (optional)\n",
    "print(hours)"
   ]
  },
  {
   "cell_type": "markdown",
   "id": "4e6b8be9",
   "metadata": {},
   "source": [
    "## Data Science Tools and Ecosystem\n",
    "\n",
    "In this notebook, Data Science Tools and Ecosystem are summarized.\n",
    "\n",
    "**Some of the commonly used libraries used by Data Scientists include:**\n",
    "\n",
    "1. **NumPy:** Provides foundational numerical computing capabilities.\n",
    "2. **Pandas:** Offers powerful data structures and analysis tools for working with tabular data.\n",
    "3. **Matplotlib:** Enables creation of various static, animated, and interactive visualizations.\n",
    "  * (You can add more libraries here. For example, Scikit-learn for machine learning or Seaborn for statistical graphics)\n",
    "\n",
    "**Data Science Tools**\n",
    "\n",
    "* Jupyter Notebook: Interactive environment for code, visualizations, and documentation.\n",
    "* RStudio: Integrated development environment specifically for the R programming language.\n",
    "* PyCharm: Professional IDE with extensive features for Python development, including data science tools.\n",
    "\n",
    "**Objectives:**\n",
    "\n",
    "* **List popular languages for Data Science:** We explored some of the commonly used programming languages in data science, including Python, R, and Scala.\n",
    "* **Introduce data science libraries:** We discussed essential libraries like NumPy, Pandas, and Matplotlib, highlighting their roles in data manipulation and visualization.\n",
    "* **Explore development environments:** We briefly touched upon popular development environments like Jupyter Notebook, RStudio, and PyCharm, used for data science workflows.  \n",
    "  * (You can add more objectives here, such as \"Demonstrate basic arithmetic expression evaluation\" if you included the code cell in Exercise 5)\n"
   ]
  },
  {
   "cell_type": "markdown",
   "id": "35cba978",
   "metadata": {},
   "source": [
    "## Author in Suriya Supho\n"
   ]
  },
  {
   "cell_type": "code",
   "execution_count": null,
   "id": "ae574afd",
   "metadata": {},
   "outputs": [],
   "source": []
  }
 ],
 "metadata": {
  "kernelspec": {
   "display_name": "Python 3 (ipykernel)",
   "language": "python",
   "name": "python3"
  },
  "language_info": {
   "codemirror_mode": {
    "name": "ipython",
    "version": 3
   },
   "file_extension": ".py",
   "mimetype": "text/x-python",
   "name": "python",
   "nbconvert_exporter": "python",
   "pygments_lexer": "ipython3",
   "version": "3.11.7"
  }
 },
 "nbformat": 4,
 "nbformat_minor": 5
}
